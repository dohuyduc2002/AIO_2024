{
 "cells": [
  {
   "cell_type": "code",
   "execution_count": 1,
   "metadata": {},
   "outputs": [],
   "source": [
    "import numpy as np\n",
    "import pandas as pd\n",
    "import matplotlib.pyplot as plt\n",
    "\n",
    "from sklearn.tree import DecisionTreeRegressor\n",
    "from sklearn.ensemble import RandomForestRegressor,AdaBoostRegressor\n",
    "from sklearn.preprocessing import OrdinalEncoder,StandardScaler\n",
    "from sklearn.model_selection import train_test_split,GridSearchCV\n",
    "from sklearn.metrics import mean_absolute_error, mean_squared_error"
   ]
  },
  {
   "cell_type": "code",
   "execution_count": 2,
   "metadata": {},
   "outputs": [],
   "source": [
    "PATH = '/Users/microwave/AIO_2024/Module_3/Week4/Housing.csv'\n",
    "df = pd.read_csv(PATH)"
   ]
  },
  {
   "cell_type": "code",
   "execution_count": 3,
   "metadata": {},
   "outputs": [
    {
     "name": "stdout",
     "output_type": "stream",
     "text": [
      "['mainroad', 'guestroom', 'basement', 'hotwaterheating', 'airconditioning', 'prefarea', 'furnishingstatus']\n"
     ]
    }
   ],
   "source": [
    "categorical_cols = df.select_dtypes(include=['object']).columns.to_list()\n",
    "print(categorical_cols)"
   ]
  },
  {
   "cell_type": "code",
   "execution_count": 4,
   "metadata": {},
   "outputs": [],
   "source": [
    "ordinal_encoder = OrdinalEncoder()\n",
    "encoded_categorical_cols = ordinal_encoder.fit_transform(\n",
    "    df[categorical_cols]\n",
    ")\n",
    "\n",
    "encoded_categorical_df = pd.DataFrame(\n",
    "    encoded_categorical_cols,\n",
    "    columns=categorical_cols\n",
    ")\n",
    "\n",
    "numerical_df = df.drop(categorical_cols, axis = 1)\n",
    "encoded_df = pd.concat(\n",
    "    [numerical_df,encoded_categorical_df],axis=1\n",
    ")"
   ]
  },
  {
   "cell_type": "code",
   "execution_count": 5,
   "metadata": {},
   "outputs": [],
   "source": [
    "normalizer = StandardScaler()\n",
    "dataset_arr = normalizer.fit_transform(encoded_df)"
   ]
  },
  {
   "cell_type": "code",
   "execution_count": 6,
   "metadata": {},
   "outputs": [],
   "source": [
    "X,y = dataset_arr[:,1:], dataset_arr[:,0]"
   ]
  },
  {
   "cell_type": "code",
   "execution_count": 7,
   "metadata": {},
   "outputs": [],
   "source": [
    "test_size = 0.3\n",
    "seed = 1\n",
    "X_train, X_val, y_train, y_val = train_test_split(X,y,test_size=test_size,shuffle=True)"
   ]
  },
  {
   "cell_type": "code",
   "execution_count": 8,
   "metadata": {},
   "outputs": [
    {
     "name": "stdout",
     "output_type": "stream",
     "text": [
      "Best parameters: {'bootstrap': True, 'criterion': 'absolute_error', 'max_features': 'log2', 'n_estimators': 63, 'oob_score': True}\n"
     ]
    }
   ],
   "source": [
    "param_grid = {\n",
    "    'n_estimators': range(40,100),\n",
    "    'criterion':['squared_error','absolute_error'],\n",
    "    'max_features' : ['sqrt','log2'],\n",
    "    'oob_score': [True,False],\n",
    "    'bootstrap': [True]\n",
    "}\n",
    "grid_search_rf = GridSearchCV(estimator = RandomForestRegressor(),param_grid=param_grid,error_score='raise')\n",
    "\n",
    "grid_search_rf.fit(X_train,y_train)\n",
    "\n",
    "best_params = grid_search_rf.best_params_\n",
    "print(\"Best parameters:\", best_params)\n",
    "y_pred_rf = grid_search_rf.predict(X_val)"
   ]
  },
  {
   "cell_type": "code",
   "execution_count": 9,
   "metadata": {},
   "outputs": [
    {
     "name": "stdout",
     "output_type": "stream",
     "text": [
      "Best parameters: {'learning_rate': 0.8, 'loss': 'linear', 'n_estimators': 27}\n"
     ]
    },
    {
     "name": "stderr",
     "output_type": "stream",
     "text": [
      "/Users/microwave/opt/anaconda3/lib/python3.9/site-packages/numpy/ma/core.py:2815: RuntimeWarning: invalid value encountered in cast\n",
      "  _data = np.array(data, dtype=dtype, copy=copy,\n"
     ]
    }
   ],
   "source": [
    "param_grid = {\n",
    "    'n_estimators': range(5, 30),\n",
    "    'learning_rate': np.arange(0.1, 2, 0.1),\n",
    "    'loss': ['linear', 'square']\n",
    "}\n",
    "\n",
    "grid_search_ada = GridSearchCV(estimator=AdaBoostRegressor(), param_grid=param_grid,error_score='raise')\n",
    "grid_search_ada.fit(X_train, y_train)\n",
    "\n",
    "best_params = grid_search_ada.best_params_\n",
    "print(\"Best parameters:\", best_params)\n",
    "y_pred_ada = grid_search_ada.predict(X_val)"
   ]
  },
  {
   "cell_type": "code",
   "execution_count": 10,
   "metadata": {},
   "outputs": [],
   "source": [
    "mae_rf = mean_absolute_error(y_val , y_pred_rf)\n",
    "mse_rf = mean_squared_error(y_val , y_pred_rf )\n",
    "\n",
    "mae_ada = mean_absolute_error(y_val , y_pred_rf)\n",
    "mse_ada = mean_squared_error(y_val , y_pred_rf )"
   ]
  },
  {
   "cell_type": "code",
   "execution_count": 11,
   "metadata": {},
   "outputs": [
    {
     "name": "stdout",
     "output_type": "stream",
     "text": [
      "Evaluation results on validataion set for Random forest regressor with GridsearchCV: \n",
      "Mean absolute error 0.4620087152923201\n",
      "Mean squared error 0.5006796000269119\n"
     ]
    }
   ],
   "source": [
    "print('Evaluation results on validataion set for Random forest regressor with GridsearchCV: ')\n",
    "print(f'Mean absolute error {mae_rf}')\n",
    "print(f'Mean squared error {mse_rf}')"
   ]
  },
  {
   "cell_type": "code",
   "execution_count": 12,
   "metadata": {},
   "outputs": [
    {
     "name": "stdout",
     "output_type": "stream",
     "text": [
      "Evaluation results on validataion set for Adaboost with GridsearchCV: \n",
      "Mean absolute error 0.4620087152923201\n",
      "Mean squared error 0.5006796000269119\n"
     ]
    }
   ],
   "source": [
    "print('Evaluation results on validataion set for Adaboost with GridsearchCV: ')\n",
    "print(f'Mean absolute error {mae_ada}')\n",
    "print(f'Mean squared error {mse_ada}')"
   ]
  },
  {
   "cell_type": "code",
   "execution_count": 29,
   "metadata": {},
   "outputs": [
    {
     "data": {
      "text/plain": [
       "array([12.])"
      ]
     },
     "execution_count": 29,
     "metadata": {},
     "output_type": "execute_result"
    }
   ],
   "source": [
    "df = {'X':[3,5,8,10,12],'y':[12,20,28,32,36]}\n",
    "df = pd.DataFrame(df)\n",
    "\n",
    "tree_test = DecisionTreeRegressor(criterion='squared_error', random_state=42)\n",
    "tree_test.fit(df[['X']],df[['y']])"
   ]
  },
  {
   "cell_type": "code",
   "execution_count": 30,
   "metadata": {},
   "outputs": [
    {
     "name": "stderr",
     "output_type": "stream",
     "text": [
      "/Users/microwave/opt/anaconda3/lib/python3.9/site-packages/sklearn/base.py:493: UserWarning: X does not have valid feature names, but DecisionTreeRegressor was fitted with feature names\n",
      "  warnings.warn(\n",
      "/Users/microwave/opt/anaconda3/lib/python3.9/site-packages/sklearn/base.py:493: UserWarning: X does not have valid feature names, but DecisionTreeRegressor was fitted with feature names\n",
      "  warnings.warn(\n"
     ]
    },
    {
     "data": {
      "text/plain": [
       "(array([12.]), array([36.]))"
      ]
     },
     "execution_count": 30,
     "metadata": {},
     "output_type": "execute_result"
    }
   ],
   "source": [
    "tree_test.predict([[2]]), tree_test.predict([[15]])"
   ]
  },
  {
   "cell_type": "code",
   "execution_count": 32,
   "metadata": {},
   "outputs": [
    {
     "name": "stderr",
     "output_type": "stream",
     "text": [
      "/Users/microwave/opt/anaconda3/lib/python3.9/site-packages/sklearn/base.py:493: UserWarning: X does not have valid feature names, but RandomForestRegressor was fitted with feature names\n",
      "  warnings.warn(\n"
     ]
    },
    {
     "data": {
      "text/plain": [
       "array([4.])"
      ]
     },
     "execution_count": 32,
     "metadata": {},
     "output_type": "execute_result"
    }
   ],
   "source": [
    "data = {'X': [2, 1, 3, 5], 'Y': [4, 3, 5, 6]}\n",
    "df = pd.DataFrame(data)\n",
    "\n",
    "\n",
    "X = df[['X']]  \n",
    "y = df['Y']    \n",
    "\n",
    "model = RandomForestRegressor(n_estimators=2, max_depth=1, random_state=42, bootstrap=True)\n",
    "model.fit(X, y)\n",
    "\n",
    "\n",
    "X_test = np.array([[2]]) \n",
    "y_pred = model.predict(X_test)\n",
    "y_pred, "
   ]
  },
  {
   "cell_type": "code",
   "execution_count": null,
   "metadata": {},
   "outputs": [],
   "source": []
  }
 ],
 "metadata": {
  "kernelspec": {
   "display_name": "base",
   "language": "python",
   "name": "python3"
  },
  "language_info": {
   "codemirror_mode": {
    "name": "ipython",
    "version": 3
   },
   "file_extension": ".py",
   "mimetype": "text/x-python",
   "name": "python",
   "nbconvert_exporter": "python",
   "pygments_lexer": "ipython3",
   "version": "3.9.13"
  }
 },
 "nbformat": 4,
 "nbformat_minor": 2
}
