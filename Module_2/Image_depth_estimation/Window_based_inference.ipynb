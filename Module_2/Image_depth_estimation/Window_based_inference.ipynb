{
 "cells": [
  {
   "cell_type": "code",
   "execution_count": 1,
   "metadata": {},
   "outputs": [],
   "source": [
    "import numpy as np\n",
    "import cv2\n",
    "import os\n",
    "from utils import window_base_matching_cosine,window_based_l1,window_based_l2,pixel_based_l1,pixel_based_l2"
   ]
  },
  {
   "cell_type": "code",
   "execution_count": 2,
   "metadata": {},
   "outputs": [
    {
     "name": "stdout",
     "output_type": "stream",
     "text": [
      "Saving result...\n",
      "Done\n",
      "Saving result...\n",
      "Done\n"
     ]
    },
    {
     "data": {
      "text/plain": [
       "array([[ 0,  0,  0, ...,  0,  0,  0],\n",
       "       [ 0,  0,  0, ...,  0,  0,  0],\n",
       "       [ 0,  0,  0, ...,  0,  0,  0],\n",
       "       ...,\n",
       "       [ 0,  0,  0, ...,  0, 16,  0],\n",
       "       [ 0,  0,  0, ..., 16, 32,  0],\n",
       "       [ 0,  0,  0, ..., 64, 64,  0]], dtype=uint8)"
      ]
     },
     "execution_count": 2,
     "metadata": {},
     "output_type": "execute_result"
    }
   ],
   "source": [
    "os.chdir('/Users/microwave/AIO_2024/Module_2/Image_depth_estimation/data/Tsukuba')\n",
    "left_img_path = 'left.png'\n",
    "right_img_path = 'right.png'\n",
    "disparity_range = 16\n",
    "pixel_based_l1(left_img_path,right_img_path,disparity_range,save_result=True)\n",
    "pixel_based_l2(left_img_path,right_img_path,disparity_range,save_result=True)"
   ]
  },
  {
   "cell_type": "code",
   "execution_count": 3,
   "metadata": {},
   "outputs": [
    {
     "name": "stdout",
     "output_type": "stream",
     "text": [
      "Done\n",
      "Saving result\n",
      "Done\n"
     ]
    },
    {
     "data": {
      "text/plain": [
       "array([[  0,   0,   0, ...,   0,   0,   0],\n",
       "       [  0,   0,   3, ...,  45,  48,  48],\n",
       "       [  0,   0,   3, ...,  45,  48,  51],\n",
       "       ...,\n",
       "       [  0,   0,   0, ..., 102,  72,  72],\n",
       "       [  0,   0,   0, ...,  66,  69, 132],\n",
       "       [  0,   0,   3, ..., 129, 129, 129]], dtype=uint8)"
      ]
     },
     "execution_count": 3,
     "metadata": {},
     "output_type": "execute_result"
    }
   ],
   "source": [
    "os.chdir('/Users/microwave/AIO_2024/Module_2/Image_depth_estimation/data/Aloe')\n",
    "left_img_path = 'Aloe_left_1.png'\n",
    "right_img_path = 'Aloe_right_1.png'\n",
    "DISPARITY_RANGE = 64\n",
    "KERNEL_SIZE = 3\n",
    "window_based_l1(left_img_path,right_img_path,DISPARITY_RANGE,'Aloe_disparity_l1_window',KERNEL_SIZE)\n",
    "window_based_l2(left_img_path,right_img_path,DISPARITY_RANGE,'Aloe_disparity_l2_window',KERNEL_SIZE)"
   ]
  },
  {
   "cell_type": "code",
   "execution_count": 4,
   "metadata": {},
   "outputs": [
    {
     "name": "stdout",
     "output_type": "stream",
     "text": [
      "Done\n",
      "Done\n"
     ]
    },
    {
     "data": {
      "text/plain": [
       "array([[  0,   0,   0, ...,   0,   0,   0],\n",
       "       [  0,   0,   0, ...,   0,   0,   0],\n",
       "       [  0,   0,   0, ...,  45, 168,   0],\n",
       "       ...,\n",
       "       [  0,   0,   0, ..., 141, 144,   0],\n",
       "       [  0,   0,   0, ..., 141, 126,   0],\n",
       "       [  0,   0,   0, ...,   0,   0,   0]], dtype=uint8)"
      ]
     },
     "execution_count": 4,
     "metadata": {},
     "output_type": "execute_result"
    }
   ],
   "source": [
    "left_img_path = 'Aloe_left_1.png'\n",
    "right_img_path = 'Aloe_right_2.png'\n",
    "right_img_path_1 = 'Aloe_right_3.png'\n",
    "DISPARITY_RANGE = 64\n",
    "KERNEL_SIZE = 5\n",
    "window_based_l1(left_img_path,right_img_path,DISPARITY_RANGE,'Aloe_right_2_disparity_l1',KERNEL_SIZE)\n",
    "window_based_l1(left_img_path,right_img_path_1,DISPARITY_RANGE,'Aloe_right_3_disparity_l1',KERNEL_SIZE)"
   ]
  },
  {
   "cell_type": "markdown",
   "metadata": {},
   "source": [
    "The problem with the different disparity depth when comparing Aloe_left_1 with Aloe_right_2 images is the contrast in 2 images. \n",
    "\n",
    "Two images took at same angle and viewpoint but the author personally changed it contrast. \n",
    "\n",
    "When applying to the disparity calculation, the different between pixels make the computation harder. To further clarify, the constrast of an image is linearity dependance while L1 and L2 invariant to linear changes."
   ]
  },
  {
   "cell_type": "code",
   "execution_count": 5,
   "metadata": {},
   "outputs": [
    {
     "name": "stdout",
     "output_type": "stream",
     "text": [
      "Done\n",
      "Done\n"
     ]
    },
    {
     "data": {
      "text/plain": [
       "array([[  0,   0,   0, ...,   0,   0,   0],\n",
       "       [  0,   0,   0, ...,   0,   0,   0],\n",
       "       [  0,   0,   0, ...,  48,   0,   0],\n",
       "       ...,\n",
       "       [  0,   0,   0, ..., 126,   0,   0],\n",
       "       [  0,   0,   0, ...,   0,   0,   0],\n",
       "       [  0,   0,   0, ...,   0,   0,   0]], dtype=uint8)"
      ]
     },
     "execution_count": 5,
     "metadata": {},
     "output_type": "execute_result"
    }
   ],
   "source": [
    "left_img_path = 'Aloe_left_1.png'\n",
    "right_img_path = 'Aloe_right_2.png'\n",
    "right_img_path_1 = 'Aloe_right_3.png'\n",
    "DISPARITY_RANGE = 64\n",
    "KERNEL_SIZE = 5\n",
    "window_base_matching_cosine(left_img_path,right_img_path,DISPARITY_RANGE,'Aloe_right_2_cosine',KERNEL_SIZE)\n",
    "window_base_matching_cosine(left_img_path,right_img_path_1,DISPARITY_RANGE,'Aloe_right_3_cosine',KERNEL_SIZE)"
   ]
  }
 ],
 "metadata": {
  "kernelspec": {
   "display_name": "base",
   "language": "python",
   "name": "python3"
  },
  "language_info": {
   "codemirror_mode": {
    "name": "ipython",
    "version": 3
   },
   "file_extension": ".py",
   "mimetype": "text/x-python",
   "name": "python",
   "nbconvert_exporter": "python",
   "pygments_lexer": "ipython3",
   "version": "3.9.13"
  }
 },
 "nbformat": 4,
 "nbformat_minor": 2
}
