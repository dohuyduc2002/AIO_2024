{
 "cells": [
  {
   "cell_type": "markdown",
   "metadata": {},
   "source": [
    "### Exercises\n",
    "#### Play tennis dataset\n",
    "$P(Play tennis = Yes) = \\frac{6}{10}$ and $P(Play tennis = No) = \\frac{4}{10}\\\\$ \n",
    "\n",
    "$P(Yes|Sunny, Cool, High, Strong) \\propto P(Sunny|Yes) \\cdot P(Cool|Yes) \\cdot P(High|Yes) \\cdot P(Strong|Yes)\\\\$\n",
    "\n",
    "$P(Yes | X) \\propto 0.6 \\cdot \\frac{2}{6} \\cdot \\frac{2}{6} \\cdot \\frac{1}{2} \\cdot \\frac{1}{6} = 0.0014 \\\\ $\n",
    "\n",
    "$P(No | X) \\propto 0.4 \\cdot \\frac{1}{2} \\cdot \\frac{1}{4} \\cdot \\frac{1}{2} \\cdot \\frac{3}{4} = 0.0188 \\\\$\n",
    "\n",
    "$\\text{Because P(No|X) > P(Yes|X) then \\text{ prediction will be \"No\"}} $\n",
    "\n",
    "#### Traffic dataset\n",
    "$P(\\text{On Time}) = \\frac{14}{20} = 0.7$\n",
    "\n",
    "$P(\\text{Late}) = \\frac{2}{20} = 0.1$\n",
    "\n",
    "$P(\\text{Very Late}) = \\frac{3}{20} = 0.15$\n",
    "\n",
    "$P(\\text{Cancelled}) = \\frac{1}{20} = 0.05$\n",
    "\n",
    "$P(\\text{On Time}|X) \\propto 0.7 \\cdot \\frac{10}{14} \\cdot \\frac{4}{14} \\cdot \\frac{2}{14} \\cdot \\frac{1}{14} = 0.0026$\n",
    "\n",
    "$P(\\text{Late}|X) \\propto 0.1 \\cdot \\frac{2}{2} \\cdot \\frac{1}{2} \\cdot \\frac{0}{2} \\cdot \\frac{0}{2} = 0$\n",
    "\n",
    "$P(\\text{Very Late}|X) \\propto 0.15 \\cdot \\frac{3}{3} \\cdot \\frac{1}{3} \\cdot \\frac{1}{3} \\cdot \\frac{1}{3} = 0.0056$\n",
    "\n",
    "$P(\\text{Cancelled}|X) \\propto 0.05 \\cdot \\frac{0}{1} \\cdot \\frac{1}{1} \\cdot \\frac{1}{1} \\cdot \\frac{1}{1} = 0$\n",
    "\n",
    "$\\text{Since } P(\\text{Very Late}|X) \\text{ is highest, the prediction is \"Very Late\"}$\n",
    "#### Iris dataset\n",
    "\n",
    "$\\text{Statistical variables for Class = 0 are:} \\mu = 1.566 \\ and \\ \\sigma^2 = 0.128$\n",
    "\n",
    "$\\text{Statistical variables for Class = 1 are:} \\mu = 3.733 \\ and \\ \\sigma^2 = 0.172$\n",
    "\n",
    "$\\text{Based on Gaussian formula, we have:}P(X|class = 0) = \\frac{1}{\\sigma_0 \\sqrt{2\\pi}}e^{\\frac{1}{2}(\\frac{3.4-\\mu_0}{\\sigma_0})^2} = 2.19\\times 10^{-6}$\n",
    "\n",
    "$P(Class = 0|X) = \\frac{P(X|Class = 0)P(Class = 0)}{P(X)} \\propto  5.099 \\times 10^-7 \\\\$ \n",
    "\n",
    "$P(Class = 1|X) = \\frac{P(X|Class = 1)P(Class = 1)}{P(X)} \\propto  0.3413$\n",
    "\n",
    "\n",
    "\n",
    "\n",
    "\n"
   ]
  },
  {
   "cell_type": "code",
   "execution_count": 1,
   "metadata": {},
   "outputs": [],
   "source": [
    "import numpy as np"
   ]
  },
  {
   "cell_type": "code",
   "execution_count": 2,
   "metadata": {},
   "outputs": [],
   "source": [
    "def create_train_data():\n",
    "    data = [\n",
    "        ['Sunny', 'Hot', 'High', 'Weak', 'no'],\n",
    "        ['Sunny', 'Hot', 'High', 'Strong', 'no'],\n",
    "        ['Overcast', 'Hot', 'High', 'Weak', 'yes'],\n",
    "        ['Rain', 'Mild', 'High', 'Weak', 'yes'],\n",
    "        ['Rain', 'Cool', 'Normal', 'Weak', 'yes'],\n",
    "        ['Rain', 'Cool', 'Normal', 'Strong', 'no'],\n",
    "        ['Overcast', 'Cool', 'Normal', 'Strong', 'yes'],\n",
    "        ['Overcast', 'Mild', 'High', 'Weak', 'no'],\n",
    "        ['Sunny', 'Cool', 'Normal', 'Weak', 'yes'],\n",
    "        ['Rain', 'Mild', 'Normal', 'Weak', 'yes']\n",
    "    ]\n",
    "    return np.array(data)"
   ]
  },
  {
   "cell_type": "code",
   "execution_count": 3,
   "metadata": {},
   "outputs": [],
   "source": [
    "def compute_prior_probability(train_data):\n",
    "    y_unique = ['no', 'yes']\n",
    "    prior_probability = np.zeros(len(y_unique))\n",
    "    total_samples = len(train_data)\n",
    "    \n",
    "    for i, y in enumerate(y_unique):\n",
    "        prior_probability[i] = np.sum(train_data[:, -1] == y) / total_samples\n",
    "    \n",
    "    return prior_probability"
   ]
  },
  {
   "cell_type": "code",
   "execution_count": 4,
   "metadata": {},
   "outputs": [],
   "source": [
    "def compute_conditional_probability(train_data):\n",
    "    y_unique = ['no', 'yes']\n",
    "    conditional_probability = []\n",
    "    list_x_name = []\n",
    "    \n",
    "    for i in range(train_data.shape[1] - 1):\n",
    "        x_unique = np.unique(train_data[:, i])\n",
    "        list_x_name.append(x_unique)\n",
    "        x_conditional_probability = np.zeros((len(y_unique), len(x_unique)))\n",
    "        \n",
    "        for j, y in enumerate(y_unique):\n",
    "            y_samples = train_data[train_data[:, -1] == y]\n",
    "            for k, x in enumerate(x_unique):\n",
    "                x_conditional_probability[j, k] = np.sum(y_samples[:, i] == x) / len(y_samples)\n",
    "        \n",
    "        conditional_probability.append(x_conditional_probability)\n",
    "    \n",
    "    return conditional_probability, list_x_name"
   ]
  },
  {
   "cell_type": "code",
   "execution_count": 5,
   "metadata": {},
   "outputs": [],
   "source": [
    "def get_index_from_value(feature_name, list_features):\n",
    "    return np.where(list_features == feature_name)[0][0]"
   ]
  },
  {
   "cell_type": "code",
   "execution_count": 6,
   "metadata": {},
   "outputs": [],
   "source": [
    "def train_naive_bayes(train_data):\n",
    "    prior_probability = compute_prior_probability(train_data)\n",
    "    conditional_probability, list_x_name = compute_conditional_probability(train_data)\n",
    "    return prior_probability, conditional_probability, list_x_name"
   ]
  },
  {
   "cell_type": "code",
   "execution_count": 7,
   "metadata": {},
   "outputs": [],
   "source": [
    "def prediction_play_tennis(X, list_x_name, prior_probability, conditional_probability):\n",
    "    x1 = get_index_from_value(X[0], list_x_name[0])\n",
    "    x2 = get_index_from_value(X[1], list_x_name[1])\n",
    "    x3 = get_index_from_value(X[2], list_x_name[2])\n",
    "    x4 = get_index_from_value(X[3], list_x_name[3])\n",
    "    \n",
    "    p0 = prior_probability[0] * conditional_probability[0][0, x1] * conditional_probability[1][0, x2] * conditional_probability[2][0, x3] * conditional_probability[3][0, x4]\n",
    "    p1 = prior_probability[1] * conditional_probability[0][1, x1] * conditional_probability[1][1, x2] * conditional_probability[2][1, x3] * conditional_probability[3][1, x4]\n",
    "    \n",
    "    return 1 if p1 > p0 else 0"
   ]
  },
  {
   "cell_type": "code",
   "execution_count": 8,
   "metadata": {},
   "outputs": [],
   "source": [
    "def create_train_data_iris():\n",
    "    data = np.loadtxt('/Users/microwave/AIO_2024/Module_2/Week3/iris.data.txt', delimiter=',', dtype=str)\n",
    "    return data"
   ]
  },
  {
   "cell_type": "code",
   "execution_count": 9,
   "metadata": {},
   "outputs": [],
   "source": [
    "def train_gaussian_naive_bayes(train_data):\n",
    "    y_unique = np.unique(train_data[:, -1])\n",
    "    prior_probability = np.zeros(len(y_unique))\n",
    "    conditional_probability = []\n",
    "    \n",
    "    for i, y in enumerate(y_unique):\n",
    "        prior_probability[i] = np.sum(train_data[:, -1] == y) / len(train_data)\n",
    "        y_samples = train_data[train_data[:, -1] == y, :-1].astype(float)\n",
    "        conditional_probability.append((np.mean(y_samples, axis=0), np.var(y_samples, axis=0)))\n",
    "    \n",
    "    return prior_probability, conditional_probability"
   ]
  },
  {
   "cell_type": "code",
   "execution_count": 10,
   "metadata": {},
   "outputs": [],
   "source": [
    "def prediction_iris(X, prior_probability, conditional_probability):\n",
    "    X = np.array(X)\n",
    "    probabilities = []\n",
    "    \n",
    "    for i in range(len(prior_probability)):\n",
    "        mean, var = conditional_probability[i]\n",
    "        p = prior_probability[i]\n",
    "        p *= np.prod(1 / np.sqrt(2 * np.pi * var) * np.exp(-((X - mean) ** 2) / (2 * var)))\n",
    "        probabilities.append(p)\n",
    "    \n",
    "    return np.argmax(probabilities)"
   ]
  },
  {
   "cell_type": "code",
   "execution_count": 11,
   "metadata": {},
   "outputs": [
    {
     "name": "stdout",
     "output_type": "stream",
     "text": [
      "Question 14:\n",
      "P(Play Tennis = Yes) = 0.6\n",
      "P(Play Tennis = No) = 0.4\n",
      "\n",
      "Question 15:\n",
      "x1 = ['Overcast' 'Rain' 'Sunny']\n",
      "x2 = ['Cool' 'Hot' 'Mild']\n",
      "x3 = ['High' 'Normal']\n",
      "x4 = ['Strong' 'Weak']\n",
      "\n",
      "Question 16:\n",
      "0 1 2\n",
      "\n",
      "Question 17:\n",
      "P('Outlook'='Sunny'|Play Tennis'='Yes') = 0.17\n",
      "\n",
      "Question 18:\n",
      "P('Outlook'='Sunny'|Play Tennis'='No') = 0.5\n",
      "\n",
      "Question 19:\n",
      "Ad should not go!\n",
      "\n",
      "Iris Classifier:\n",
      "Example 1 prediction: Iris-virginica\n",
      "Example 2 prediction: Iris-versicolor\n",
      "Example 3 prediction: Iris-setosa\n"
     ]
    }
   ],
   "source": [
    "# Play Tennis dataset\n",
    "train_data = create_train_data()\n",
    "prior_probability, conditional_probability, list_x_name = train_naive_bayes(train_data)\n",
    "\n",
    "print(\"Question 14:\")\n",
    "print(f\"P(Play Tennis = Yes) = {prior_probability[1]}\")\n",
    "print(f\"P(Play Tennis = No) = {prior_probability[0]}\")\n",
    "\n",
    "print(\"\\nQuestion 15:\")\n",
    "print(\"x1 =\", list_x_name[0])\n",
    "print(\"x2 =\", list_x_name[1])\n",
    "print(\"x3 =\", list_x_name[2])\n",
    "print(\"x4 =\", list_x_name[3])\n",
    "\n",
    "print(\"\\nQuestion 16:\")\n",
    "outlook = list_x_name[0]\n",
    "i1 = get_index_from_value(\"Overcast\", outlook)\n",
    "i2 = get_index_from_value(\"Rain\", outlook)\n",
    "i3 = get_index_from_value(\"Sunny\", outlook)\n",
    "print(i1, i2, i3)\n",
    "\n",
    "print(\"\\nQuestion 17:\")\n",
    "x1 = get_index_from_value(\"Sunny\", list_x_name[0])\n",
    "print(f\"P('Outlook'='Sunny'|Play Tennis'='Yes') = {conditional_probability[0][1, x1]:.2f}\")\n",
    "\n",
    "print(\"\\nQuestion 18:\")\n",
    "print(f\"P('Outlook'='Sunny'|Play Tennis'='No') = {conditional_probability[0][0, x1]:.1f}\")\n",
    "\n",
    "print(\"\\nQuestion 19:\")\n",
    "X = ['Sunny', 'Cool', 'High', 'Strong']\n",
    "pred = prediction_play_tennis(X, list_x_name, prior_probability, conditional_probability)\n",
    "print(\"Ad should go!\" if pred else \"Ad should not go!\")\n",
    "\n",
    "# Iris dataset\n",
    "print(\"\\nIris Classifier:\")\n",
    "train_data = create_train_data_iris()\n",
    "y_unique = np.unique(train_data[:, 4])\n",
    "prior_probability, conditional_probability = train_gaussian_naive_bayes(train_data)\n",
    "\n",
    "# Example 1\n",
    "X = [6.3, 3.3, 6.0, 2.5]\n",
    "pred = y_unique[prediction_iris(X, prior_probability, conditional_probability)]\n",
    "print(f\"Example 1 prediction: {pred}\")\n",
    "\n",
    "# Example 2\n",
    "X = [5.0, 2.0, 3.5, 1.0]\n",
    "pred = y_unique[prediction_iris(X, prior_probability, conditional_probability)]\n",
    "print(f\"Example 2 prediction: {pred}\")\n",
    "\n",
    "# Example 3\n",
    "X = [4.9, 3.1, 1.5, 0.1]\n",
    "pred = y_unique[prediction_iris(X, prior_probability, conditional_probability)]\n",
    "print(f\"Example 3 prediction: {pred}\")"
   ]
  },
  {
   "cell_type": "code",
   "execution_count": null,
   "metadata": {},
   "outputs": [],
   "source": []
  }
 ],
 "metadata": {
  "kernelspec": {
   "display_name": "Python 3",
   "language": "python",
   "name": "python3"
  },
  "language_info": {
   "codemirror_mode": {
    "name": "ipython",
    "version": 3
   },
   "file_extension": ".py",
   "mimetype": "text/x-python",
   "name": "python",
   "nbconvert_exporter": "python",
   "pygments_lexer": "ipython3",
   "version": "3.11.1"
  }
 },
 "nbformat": 4,
 "nbformat_minor": 4
}
