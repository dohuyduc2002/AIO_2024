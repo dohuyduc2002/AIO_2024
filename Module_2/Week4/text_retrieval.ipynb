{
 "cells": [
  {
   "cell_type": "code",
   "execution_count": 14,
   "metadata": {},
   "outputs": [],
   "source": [
    "import pandas as pd\n",
    "import numpy as np\n",
    "from sklearn.metrics.pairwise import cosine_similarity\n",
    "from sklearn.feature_extraction.text import TfidfVectorizer\n",
    "import os\n",
    "\n",
    "os.chdir('/Users/microwave/AIO_2024/Module_2/Week4/data')\n"
   ]
  },
  {
   "cell_type": "code",
   "execution_count": 15,
   "metadata": {},
   "outputs": [
    {
     "data": {
      "text/plain": [
       "0.31126580760710637"
      ]
     },
     "execution_count": 15,
     "metadata": {},
     "output_type": "execute_result"
    }
   ],
   "source": [
    "vi_data_df = pd.read_csv('vi_text_retrieval.csv')\n",
    "context = vi_data_df['text']\n",
    "context = [doc.lower() for doc in context]\n",
    "\n",
    "tfifd_vectorizer = TfidfVectorizer()\n",
    "context_embedded = tfifd_vectorizer.fit_transform(raw_documents = context)\n",
    "context_embedded.toarray()[7][0]"
   ]
  },
  {
   "cell_type": "code",
   "execution_count": 18,
   "metadata": {},
   "outputs": [
    {
     "data": {
      "text/plain": [
       "0.6279910475266972"
      ]
     },
     "execution_count": 18,
     "metadata": {},
     "output_type": "execute_result"
    }
   ],
   "source": [
    "def tfidf_search(question, tfidf_vectorizer, top_d=5):\n",
    "    query_embedded = tfidf_vectorizer.transform([question.lower()])\n",
    "    cosine_scores = cosine_similarity(context_embedded, query_embedded).reshape(-1)\n",
    "    results = []\n",
    "    for idx in cosine_scores.argsort()[-top_d:][::-1]:\n",
    "        doc = {\n",
    "            'id': idx,\n",
    "            'cosine_score':cosine_scores[idx]\n",
    "        }\n",
    "        results.append(doc)\n",
    "    return results\n",
    "\n",
    "question = vi_data_df.iloc[0]['question']\n",
    "results = tfidf_search(question, tfifd_vectorizer)\n",
    "results[0]['cosine_score']"
   ]
  },
  {
   "cell_type": "code",
   "execution_count": null,
   "metadata": {},
   "outputs": [],
   "source": []
  },
  {
   "cell_type": "code",
   "execution_count": 22,
   "metadata": {},
   "outputs": [
    {
     "data": {
      "text/plain": [
       "0.19834276610042148"
      ]
     },
     "execution_count": 22,
     "metadata": {},
     "output_type": "execute_result"
    }
   ],
   "source": [
    "def corr_search(question,tfifd_vectorizer,top_d = 5):\n",
    "    query_embedded = tfifd_vectorizer.transform([question.lower()])\n",
    "    corr_scores = np.corrcoef(context_embedded.toarray(),query_embedded.toarray()[0])\n",
    "    corr_scores = corr_scores[0][1:]\n",
    "    results = []\n",
    "    for idx in corr_scores.argsort()[-top_d:][::-1]:\n",
    "        doc = {\n",
    "            'id':idx,\n",
    "            'corr_score':corr_scores[idx]\n",
    "        }\n",
    "        results.append(doc)\n",
    "    return results\n",
    "\n",
    "question = vi_data_df.iloc[0]['question']\n",
    "results = corr_search(question,tfifd_vectorizer)\n",
    "results [1]['corr_score']"
   ]
  },
  {
   "cell_type": "code",
   "execution_count": null,
   "metadata": {},
   "outputs": [],
   "source": []
  }
 ],
 "metadata": {
  "kernelspec": {
   "display_name": "base",
   "language": "python",
   "name": "python3"
  },
  "language_info": {
   "codemirror_mode": {
    "name": "ipython",
    "version": 3
   },
   "file_extension": ".py",
   "mimetype": "text/x-python",
   "name": "python",
   "nbconvert_exporter": "python",
   "pygments_lexer": "ipython3",
   "version": "3.9.13"
  }
 },
 "nbformat": 4,
 "nbformat_minor": 2
}
