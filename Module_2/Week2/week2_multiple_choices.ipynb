{
 "cells": [
  {
   "cell_type": "code",
   "execution_count": 14,
   "metadata": {},
   "outputs": [],
   "source": [
    "import numpy as np\n",
    "def compute_vector_length(vector):\n",
    "    return np.linalg.norm(vector)\n",
    "\n",
    "def compute_dot_product(vector1, vector2):\n",
    "    return np.dot(vector1, vector2)\n",
    "\n",
    "def matrix_multi_vector(matrix, vector):\n",
    "    return np.dot(matrix, vector)\n",
    "\n",
    "def matrix_multi_matrix(matrix1, matrix2):\n",
    "    return np.dot(matrix1, matrix2)\n",
    "\n",
    "def inverse_matrix(matrix):\n",
    "    return np.linalg.inv(matrix)\n",
    "\n",
    "def compute_eigenvalues_eigenvectors(matrix):\n",
    "    eigenvalues, eigenvectors = np.linalg.eig(matrix)\n",
    "    eigenvectors = eigenvectors / np.linalg.norm(eigenvectors, axis=0)\n",
    "    return eigenvalues, eigenvectors\n",
    "\n",
    "def compute_cosine(v1, v2):\n",
    "    return np.dot(v1, v2) / (np.linalg.norm(v1) * np.linalg.norm(v2))"
   ]
  },
  {
   "cell_type": "code",
   "execution_count": 15,
   "metadata": {},
   "outputs": [
    {
     "name": "stdout",
     "output_type": "stream",
     "text": [
      "23.28\n"
     ]
    }
   ],
   "source": [
    "# Câu 1\n",
    "vector = np.array([-2, 4, 9, 21])\n",
    "result = compute_vector_length([vector])\n",
    "print(round(result, 2))"
   ]
  },
  {
   "cell_type": "code",
   "execution_count": 16,
   "metadata": {},
   "outputs": [
    {
     "name": "stdout",
     "output_type": "stream",
     "text": [
      "4\n"
     ]
    }
   ],
   "source": [
    "# Câu 2\n",
    "v1 = np.array([0, 1, -1, 2])\n",
    "v2 = np.array([2, 5, 1, 0])\n",
    "result = compute_dot_product(v1, v2)\n",
    "print(round(result, 2))"
   ]
  },
  {
   "cell_type": "code",
   "execution_count": 17,
   "metadata": {},
   "outputs": [
    {
     "name": "stdout",
     "output_type": "stream",
     "text": [
      "result\n",
      " [ 5 11]\n"
     ]
    }
   ],
   "source": [
    "# Câu 3\n",
    "x = np.array([[1, 2],\n",
    "              [3, 4]])\n",
    "k = np.array([1, 2])\n",
    "print('result\\n', x.dot(k))"
   ]
  },
  {
   "cell_type": "code",
   "execution_count": 18,
   "metadata": {},
   "outputs": [
    {
     "name": "stdout",
     "output_type": "stream",
     "text": [
      "result\n",
      " [ 3 -5]\n"
     ]
    }
   ],
   "source": [
    "# Câu 4\n",
    "x = np.array([[-1, 2],\n",
    "              [3, -4]])\n",
    "k = np.array([1, 2])\n",
    "print('result\\n', x@k)"
   ]
  },
  {
   "cell_type": "code",
   "execution_count": 19,
   "metadata": {},
   "outputs": [
    {
     "name": "stdout",
     "output_type": "stream",
     "text": [
      "[3 1]\n"
     ]
    }
   ],
   "source": [
    "# Câu 5\n",
    "m = np.array([[-1, 1, 1], [0, -4, 9]])\n",
    "v = np.array([0, 2, 1])\n",
    "result = matrix_multi_vector(m, v)\n",
    "print(result)"
   ]
  },
  {
   "cell_type": "code",
   "execution_count": 20,
   "metadata": {},
   "outputs": [
    {
     "name": "stdout",
     "output_type": "stream",
     "text": [
      "[[  6  -1]\n",
      " [-16 -10]]\n"
     ]
    }
   ],
   "source": [
    "# Câu 6\n",
    "m1 = np.array([[0, 1, 2], [2, -3, 1]])\n",
    "m2 = np.array([[1, -3],[6, 1], [0, -1]])\n",
    "result = matrix_multi_matrix(m1, m2)\n",
    "print(result)"
   ]
  },
  {
   "cell_type": "code",
   "execution_count": 21,
   "metadata": {},
   "outputs": [
    {
     "name": "stdout",
     "output_type": "stream",
     "text": [
      "[[1. 1. 1.]\n",
      " [2. 2. 2.]\n",
      " [3. 3. 3.]]\n"
     ]
    }
   ],
   "source": [
    "# Câu 7\n",
    "m1 = np.eye(3)\n",
    "m2 = np.array([[1, 1, 1],[2, 2, 2], [3, 3, 3]])\n",
    "result = m1@m2\n",
    "print(result)"
   ]
  },
  {
   "cell_type": "code",
   "execution_count": 22,
   "metadata": {},
   "outputs": [
    {
     "name": "stdout",
     "output_type": "stream",
     "text": [
      "[5. 5. 5. 5.]\n"
     ]
    }
   ],
   "source": [
    "# Câu 8\n",
    "m1 = np.eye(2)\n",
    "m1 = np.reshape(m1,(-1,4))[0]\n",
    "m2 = np.array([[1, 1, 1, 1],[2, 2, 2, 2], [3, 3, 3, 3], [4, 4, 4, 4]])\n",
    "result = m1@m2\n",
    "print(result)"
   ]
  },
  {
   "cell_type": "code",
   "execution_count": 23,
   "metadata": {},
   "outputs": [
    {
     "name": "stdout",
     "output_type": "stream",
     "text": [
      "[29 29 29 29]\n"
     ]
    }
   ],
   "source": [
    "# Câu 9\n",
    "m1 = np.array([[1, 2], [3, 4]])\n",
    "m1 = np.reshape(m1,(-1,4), \"F\")[0]\n",
    "m2 = np.array([[1, 1, 1, 1],[2, 2, 2, 2], [3, 3, 3, 3], [4, 4, 4, 4]])\n",
    "result = m1@m2\n",
    "print(result)"
   ]
  },
  {
   "cell_type": "code",
   "execution_count": 24,
   "metadata": {},
   "outputs": [
    {
     "name": "stdout",
     "output_type": "stream",
     "text": [
      "[[0.1  0.15]\n",
      " [0.2  0.05]]\n"
     ]
    }
   ],
   "source": [
    "# Câu 10\n",
    "m1 = np.array([[-2, 6], [8, -4]])\n",
    "result = inverse_matrix(m1)\n",
    "print(result)"
   ]
  },
  {
   "cell_type": "code",
   "execution_count": 25,
   "metadata": {},
   "outputs": [
    {
     "name": "stdout",
     "output_type": "stream",
     "text": [
      "[[ 0.89442719 -0.70710678]\n",
      " [ 0.4472136   0.70710678]]\n"
     ]
    }
   ],
   "source": [
    "# Câu 11\n",
    "matrix = np.array([[0.9, 0.2], [0.1, 0.8]])\n",
    "eigenvalues, eigenvectors = compute_eigenvalues_eigenvectors(matrix)\n",
    "print(eigenvectors)"
   ]
  },
  {
   "cell_type": "code",
   "execution_count": 26,
   "metadata": {},
   "outputs": [
    {
     "name": "stdout",
     "output_type": "stream",
     "text": [
      "0.577\n"
     ]
    }
   ],
   "source": [
    "# Câu 12\n",
    "x = np.array([1, 2, 3, 4])\n",
    "y = np.array([1, 0, 3, 0])\n",
    "result = compute_cosine(x, y)\n",
    "print(round(result, 3))"
   ]
  },
  {
   "cell_type": "code",
   "execution_count": null,
   "metadata": {},
   "outputs": [],
   "source": []
  }
 ],
 "metadata": {
  "kernelspec": {
   "display_name": "Python 3",
   "language": "python",
   "name": "python3"
  },
  "language_info": {
   "codemirror_mode": {
    "name": "ipython",
    "version": 3
   },
   "file_extension": ".py",
   "mimetype": "text/x-python",
   "name": "python",
   "nbconvert_exporter": "python",
   "pygments_lexer": "ipython3",
   "version": "3.11.1"
  }
 },
 "nbformat": 4,
 "nbformat_minor": 4
}
