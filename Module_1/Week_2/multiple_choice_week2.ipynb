{
 "cells": [
  {
   "cell_type": "code",
   "execution_count": 55,
   "metadata": {},
   "outputs": [],
   "source": [
    "from levenshtein import leveshtein\n",
    "from sliding_window import sliding_window\n",
    "from word_count import word_count\n",
    "from count_chars import count_chars"
   ]
  },
  {
   "cell_type": "markdown",
   "metadata": {},
   "source": [
    "### Exercise 1"
   ]
  },
  {
   "cell_type": "code",
   "execution_count": 56,
   "metadata": {},
   "outputs": [
    {
     "name": "stdout",
     "output_type": "stream",
     "text": [
      "[5, 5, 5, 5, 10, 12, 33, 33]\n"
     ]
    },
    {
     "data": {
      "text/plain": [
       "[5, 5, 5, 5, 10, 12, 33, 33]"
      ]
     },
     "execution_count": 56,
     "metadata": {},
     "output_type": "execute_result"
    }
   ],
   "source": [
    "num_list = [3, 4, 5, 1, -44, 5, 10, 12, 33, 1]\n",
    "k = 3\n",
    "sliding_window(num_list, k)"
   ]
  },
  {
   "cell_type": "markdown",
   "metadata": {},
   "source": [
    "### Exercise 2"
   ]
  },
  {
   "cell_type": "code",
   "execution_count": 57,
   "metadata": {},
   "outputs": [
    {
     "name": "stdout",
     "output_type": "stream",
     "text": [
      "{'s': 2, 'm': 1, 'i': 1, 'l': 1, 'e': 1}\n"
     ]
    },
    {
     "data": {
      "text/plain": [
       "{'s': 2, 'm': 1, 'i': 1, 'l': 1, 'e': 1}"
      ]
     },
     "execution_count": 57,
     "metadata": {},
     "output_type": "execute_result"
    }
   ],
   "source": [
    "word = 'smiles'\n",
    "count_chars(word)"
   ]
  },
  {
   "cell_type": "markdown",
   "metadata": {},
   "source": [
    "### Exercise 3"
   ]
  },
  {
   "cell_type": "code",
   "execution_count": 58,
   "metadata": {},
   "outputs": [
    {
     "data": {
      "text/plain": [
       "6"
      ]
     },
     "execution_count": 58,
     "metadata": {},
     "output_type": "execute_result"
    }
   ],
   "source": [
    "file = '/Users/microwave/AIO_2024/Week_2/P1_data.txt'\n",
    "result = word_count(file)\n",
    "result['man']"
   ]
  },
  {
   "cell_type": "markdown",
   "metadata": {},
   "source": [
    "### Exercise 4"
   ]
  },
  {
   "cell_type": "code",
   "execution_count": 59,
   "metadata": {},
   "outputs": [
    {
     "name": "stdout",
     "output_type": "stream",
     "text": [
      "[[0, 1, 2, 3, 4, 5], [1, 0, 1, 2, 3, 4], [2, 1, 1, 2, 3, 3], [3, 2, 2, 1, 2, 3], [4, 3, 3, 2, 2, 3]]\n",
      "3\n"
     ]
    },
    {
     "data": {
      "text/plain": [
       "3"
      ]
     },
     "execution_count": 59,
     "metadata": {},
     "output_type": "execute_result"
    }
   ],
   "source": [
    "leveshtein('hola', 'hello')"
   ]
  },
  {
   "cell_type": "markdown",
   "metadata": {},
   "source": [
    "### Exercise 5"
   ]
  },
  {
   "cell_type": "code",
   "execution_count": 60,
   "metadata": {},
   "outputs": [
    {
     "data": {
      "text/plain": [
       "'True'"
      ]
     },
     "execution_count": 60,
     "metadata": {},
     "output_type": "execute_result"
    }
   ],
   "source": [
    "def check_the_number(n: int) -> str:\n",
    "    list_of_numbers: list[int] = []\n",
    "    result = \"\"\n",
    "    for i in range(1, 5):\n",
    "        list_of_numbers.append(i)\n",
    "    if n in list_of_numbers:\n",
    "        result = \"True\"\n",
    "    if n not in list_of_numbers:\n",
    "        result = \"False\"\n",
    "    return result\n",
    "\n",
    "\n",
    "check_the_number(2)"
   ]
  },
  {
   "cell_type": "markdown",
   "metadata": {},
   "source": [
    "### Exercise 6"
   ]
  },
  {
   "cell_type": "code",
   "execution_count": 61,
   "metadata": {},
   "outputs": [
    {
     "name": "stdout",
     "output_type": "stream",
     "text": [
      "[2, 2, 2, 1, 1]\n"
     ]
    }
   ],
   "source": [
    "def my_function(data: list[int], max: int, min: int) -> list[int]:\n",
    "    result = []\n",
    "    for i in data:\n",
    "        if i < min:\n",
    "            result.append(min)\n",
    "        elif i > max:\n",
    "            result.append(max)\n",
    "        else:\n",
    "            result.append(i)\n",
    "    return result\n",
    "\n",
    "\n",
    "my_list = [10, 2, 5, 0, 1]\n",
    "max_a = 2\n",
    "min_a = 1\n",
    "print(my_function(my_list, max_a, min_a))"
   ]
  },
  {
   "cell_type": "markdown",
   "metadata": {},
   "source": [
    "### Exercise 7"
   ]
  },
  {
   "cell_type": "code",
   "execution_count": 62,
   "metadata": {},
   "outputs": [
    {
     "name": "stdout",
     "output_type": "stream",
     "text": [
      "[1, 2, 3, 4, 0, 0]\n"
     ]
    }
   ],
   "source": [
    "def my_function(x, y):\n",
    "    x.extend(y)\n",
    "    return x\n",
    "\n",
    "\n",
    "list_num1 = [1, 2]\n",
    "list_num2 = [3, 4]\n",
    "list_num3 = [0, 0]\n",
    "\n",
    "print(my_function(list_num1, (my_function(list_num2, list_num3))))"
   ]
  },
  {
   "cell_type": "markdown",
   "metadata": {},
   "source": [
    "### Exercise 8"
   ]
  },
  {
   "cell_type": "code",
   "execution_count": 63,
   "metadata": {},
   "outputs": [
    {
     "data": {
      "text/plain": [
       "-1"
      ]
     },
     "execution_count": 63,
     "metadata": {},
     "output_type": "execute_result"
    }
   ],
   "source": [
    "# not using python built-in min, using brute force approach\n",
    "def my_function(n):\n",
    "    value = n[0]\n",
    "    for i in range(len(n)):\n",
    "        if n[i] < value:\n",
    "            value = n[i]\n",
    "    return value\n",
    "\n",
    "\n",
    "my_list = [1, 2, 3, -1]\n",
    "my_function(my_list)"
   ]
  },
  {
   "cell_type": "markdown",
   "metadata": {},
   "source": [
    "### Exercise 9"
   ]
  },
  {
   "cell_type": "code",
   "execution_count": 64,
   "metadata": {},
   "outputs": [
    {
     "data": {
      "text/plain": [
       "9"
      ]
     },
     "execution_count": 64,
     "metadata": {},
     "output_type": "execute_result"
    }
   ],
   "source": [
    "def my_function(n):\n",
    "    value = n[0]\n",
    "    for i in range(len(n)):\n",
    "        if n[i] > value:\n",
    "            value = n[i]\n",
    "    return value\n",
    "\n",
    "\n",
    "my_list = [1, 9, 9, 0]\n",
    "my_function(my_list)"
   ]
  },
  {
   "cell_type": "markdown",
   "metadata": {},
   "source": [
    "### Excercise 10"
   ]
  },
  {
   "cell_type": "code",
   "execution_count": 65,
   "metadata": {},
   "outputs": [
    {
     "data": {
      "text/plain": [
       "[False, True, False, False]"
      ]
     },
     "execution_count": 65,
     "metadata": {},
     "output_type": "execute_result"
    }
   ],
   "source": [
    "def my_function(nums, value=1):\n",
    "    comparision = []\n",
    "    for i in range(len(nums)):\n",
    "        if nums[i] == value:\n",
    "            comparision.append(True)\n",
    "        else:\n",
    "            comparision.append(False)\n",
    "    return comparision\n",
    "\n",
    "\n",
    "my_list = [1, 2, 3, 4]\n",
    "my_function(my_list, 2)"
   ]
  },
  {
   "cell_type": "markdown",
   "metadata": {},
   "source": [
    "### Excercise 11"
   ]
  },
  {
   "cell_type": "code",
   "execution_count": 66,
   "metadata": {},
   "outputs": [
    {
     "name": "stdout",
     "output_type": "stream",
     "text": [
      "1.0\n"
     ]
    }
   ],
   "source": [
    "def my_function(nums=[0, 1, 2]):  # type: ignore\n",
    "    var = 0\n",
    "    for i in nums:  # type: ignore # type: ignore\n",
    "        var += i  # type: ignore # type: ignore\n",
    "    mean = var / len(nums)  # type: ignore # type: ignore\n",
    "    return mean  # type: ignore # type: ignore\n",
    "\n",
    "\n",
    "print(my_function())"
   ]
  },
  {
   "cell_type": "markdown",
   "metadata": {},
   "source": [
    "### Exercise 12"
   ]
  },
  {
   "cell_type": "code",
   "execution_count": 74,
   "metadata": {},
   "outputs": [
    {
     "data": {
      "text/plain": [
       "[3, 6]"
      ]
     },
     "execution_count": 74,
     "metadata": {},
     "output_type": "execute_result"
    }
   ],
   "source": [
    "# pylint: disable=all\n",
    "def my_function(data):  # type: ignore # type: ignore\n",
    "    var = []\n",
    "    for i in data:  # type: ignore\n",
    "        if i % 3 == 0:\n",
    "            var.append(i)\n",
    "    return var\n",
    "\n",
    "\n",
    "my_function([1, 2, 3, 5, 6])"
   ]
  },
  {
   "cell_type": "markdown",
   "metadata": {},
   "source": [
    "### Exercise 13"
   ]
  },
  {
   "cell_type": "code",
   "execution_count": 68,
   "metadata": {},
   "outputs": [
    {
     "name": "stdout",
     "output_type": "stream",
     "text": [
      "24\n"
     ]
    }
   ],
   "source": [
    "def my_function(y):\n",
    "    var = 1\n",
    "    while y > 1:\n",
    "        var *= y\n",
    "        y -= 1\n",
    "    return var\n",
    "\n",
    "\n",
    "print(my_function(4))"
   ]
  },
  {
   "cell_type": "markdown",
   "metadata": {},
   "source": [
    "### Excercise 14"
   ]
  },
  {
   "cell_type": "code",
   "execution_count": 69,
   "metadata": {},
   "outputs": [
    {
     "name": "stdout",
     "output_type": "stream",
     "text": [
      "tocirpa\n"
     ]
    }
   ],
   "source": [
    "def my_function(x):\n",
    "    left, right = 0, len(x) - 1\n",
    "    x_list = list(x)\n",
    "    while left < right:\n",
    "        x_list[left], x_list[right] = x_list[right], x_list[left]\n",
    "        left += 1\n",
    "        right -= 1\n",
    "    return ''.join(x_list)\n",
    "\n",
    "\n",
    "print(my_function('apricot'))"
   ]
  },
  {
   "cell_type": "markdown",
   "metadata": {},
   "source": [
    "### Excercise 15"
   ]
  },
  {
   "cell_type": "code",
   "execution_count": 70,
   "metadata": {},
   "outputs": [
    {
     "name": "stdout",
     "output_type": "stream",
     "text": [
      "[['T'], ['T'], ['T'], ['N']]\n"
     ]
    }
   ],
   "source": [
    "def function_helper(x):\n",
    "    solution = []\n",
    "    if x > 0:\n",
    "        solution.append('T')\n",
    "    else:\n",
    "        solution.append(\"N\")\n",
    "    return solution\n",
    "\n",
    "\n",
    "def my_function(data):  # type: ignore\n",
    "    res = [function_helper(x) for x in data]\n",
    "    return res  # type: ignore # type: ignore\n",
    "\n",
    "\n",
    "data = [2, 3, 5, -1]\n",
    "print(my_function(data))"
   ]
  },
  {
   "cell_type": "markdown",
   "metadata": {},
   "source": [
    "### Excercise 16"
   ]
  },
  {
   "cell_type": "code",
   "execution_count": 71,
   "metadata": {},
   "outputs": [
    {
     "name": "stdout",
     "output_type": "stream",
     "text": [
      "[9, 8, 1]\n"
     ]
    }
   ],
   "source": [
    "def function_helper(x: int, data: list[int]) -> int:\n",
    "    for i in data:\n",
    "        if x == i:\n",
    "            return 0\n",
    "    return 1\n",
    "\n",
    "\n",
    "def my_function(data) -> list[int]:\n",
    "    res = []\n",
    "    for i in data:  # type: ignore\n",
    "        if function_helper(i, res):  # type: ignore\n",
    "            res.append(i)\n",
    "    return res\n",
    "\n",
    "\n",
    "lst = [9, 9, 8, 1, 1]\n",
    "print(my_function(lst))"
   ]
  }
 ],
 "metadata": {
  "kernelspec": {
   "display_name": "Python 3",
   "language": "python",
   "name": "python3"
  },
  "language_info": {
   "codemirror_mode": {
    "name": "ipython",
    "version": 3
   },
   "file_extension": ".py",
   "mimetype": "text/x-python",
   "name": "python",
   "nbconvert_exporter": "python",
   "pygments_lexer": "ipython3",
   "version": "3.11.1"
  }
 },
 "nbformat": 4,
 "nbformat_minor": 2
}
