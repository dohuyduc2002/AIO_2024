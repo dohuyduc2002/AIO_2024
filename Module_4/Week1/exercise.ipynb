{
 "cells": [
  {
   "cell_type": "code",
   "execution_count": 127,
   "metadata": {},
   "outputs": [],
   "source": [
    "import numpy as np \n",
    "from matplotlib import pyplot as plt\n",
    "import random\n",
    "import os\n",
    "\n",
    "os.chdir('/Users/microwave/AIO_2024/Module_4/Week1')"
   ]
  },
  {
   "cell_type": "markdown",
   "metadata": {},
   "source": [
    "### Coding and multiple choice question 1\n"
   ]
  },
  {
   "cell_type": "code",
   "execution_count": 128,
   "metadata": {},
   "outputs": [
    {
     "name": "stdout",
     "output_type": "stream",
     "text": [
      "[624.1, 175.10000000000002, 300.5, 78.9]\n"
     ]
    }
   ],
   "source": [
    "def get_column(data, index):\n",
    "    data = np.array(data)\n",
    "    result = data[:, index]\n",
    "    return result\n",
    "\n",
    "def prepare_data(file_name_dataset):\n",
    "    data = np.genfromtxt(file_name_dataset, delimiter=',',names=True).tolist()\n",
    "    N = len(data)\n",
    "    \n",
    "    tv_data = get_column(data,0)\n",
    "    radio_data = get_column(data,1)\n",
    "    news_data = get_column(data,2)\n",
    "    sales_data = get_column(data,3)\n",
    "\n",
    "    X = [tv_data,radio_data,news_data]\n",
    "    Y = sales_data\n",
    "    return X,Y\n",
    "\n",
    "X,y = prepare_data('Advertising data.csv')\n",
    "data_list = [sum(X[0][:5]), sum(X[1][:5]), sum(X[2][:5]), sum(y[:5])]\n",
    "print(data_list)\n"
   ]
  },
  {
   "cell_type": "code",
   "execution_count": 129,
   "metadata": {},
   "outputs": [],
   "source": [
    "def initialize_param1():\n",
    "    w1 = random.gauss(mu = 0.0, sigma = 1.0)\n",
    "    w2 = random.gauss(mu = 0.0, sigma = 1.0)\n",
    "    w3 = random.gauss(mu = 0.0, sigma = 1.0)\n",
    "    b = 0\n",
    "    return w1,w2,w3,b\n",
    "\n",
    "def initialize_param():\n",
    "    w1, w2, w3, b = (0.016992259082509283 , 0.0070783670518262355, -0.002307860847821344 , 0)\n",
    "    return w1, w2, w3, b\n",
    "\n",
    "def compute_predict(x1, x2, x3, w1, w2, w3, b):\n",
    "    y_hat = w1*x1 + w2*x2 + w3*x3 + b\n",
    "    return y_hat\n",
    "\n",
    "def compute_loss_mse(y_hat, y):\n",
    "    mse = ((y - y_hat)**2)\n",
    "    return mse\n",
    "\n",
    "def compute_gradient(x, y_hat, y):\n",
    "    d_w1 = 2 * (y_hat - y) * x\n",
    "    return d_w1\n",
    "\n",
    "def compute_grad_bias(y_hat, y):\n",
    "    db = 2 * (y_hat - y)\n",
    "    return db\n",
    "\n",
    "def update_params(w, lr, d_w):\n",
    "    w = w - lr * d_w\n",
    "    return w\n",
    "\n",
    "def update_bias(b, lr, d_b):\n",
    "    b = b - lr * d_b\n",
    "    return b\n"
   ]
  },
  {
   "cell_type": "code",
   "execution_count": 130,
   "metadata": {},
   "outputs": [],
   "source": [
    "def implement_linear_regression(X_data, y_data, EPOCHS = 50, lr = 1e-5):\n",
    "    w1, w2, w3, b = initialize_param()\n",
    "    losses = []\n",
    "\n",
    "    N = len(y_data)\n",
    "    for epoch in range(EPOCHS):\n",
    "        for i in range(N):\n",
    "            x1 = X_data[0][i]\n",
    "            x2 = X_data[1][i]\n",
    "            x3 = X_data[2][i]\n",
    "            y = y_data[i]\n",
    "\n",
    "            y_hat = compute_predict(x1, x2, x3, w1, w2, w3, b)\n",
    "\n",
    "            loss = compute_loss_mse(y_hat, y)\n",
    "\n",
    "            d_w1 = compute_gradient(x1, y_hat, y)\n",
    "            d_w2 = compute_gradient(x2, y_hat, y)\n",
    "            d_w3 = compute_gradient(x3, y_hat, y)\n",
    "            d_b = compute_grad_bias(y_hat, y)\n",
    "\n",
    "            w1 = update_params(w1, lr, d_w1)  \n",
    "            w2 = update_params(w2, lr, d_w2)  \n",
    "            w3 = update_params(w3, lr, d_w3)  \n",
    "            b = update_bias(b, lr, d_b)       \n",
    "\n",
    "            losses.append(loss)\n",
    "\n",
    "    return (w1, w2, w3, b, losses)\n"
   ]
  },
  {
   "cell_type": "markdown",
   "metadata": {},
   "source": [
    "### Question 2"
   ]
  },
  {
   "cell_type": "code",
   "execution_count": 131,
   "metadata": {},
   "outputs": [
    {
     "data": {
      "text/plain": [
       "1.0"
      ]
     },
     "execution_count": 131,
     "metadata": {},
     "output_type": "execute_result"
    }
   ],
   "source": [
    "y_pred = compute_predict(1,1,1,0,0.5,0,0.5)\n",
    "y_pred"
   ]
  },
  {
   "cell_type": "markdown",
   "metadata": {},
   "source": [
    "### Question 3"
   ]
  },
  {
   "cell_type": "code",
   "execution_count": 132,
   "metadata": {},
   "outputs": [
    {
     "data": {
      "text/plain": [
       "0.25"
      ]
     },
     "execution_count": 132,
     "metadata": {},
     "output_type": "execute_result"
    }
   ],
   "source": [
    "loss = compute_loss_mse(1,0.5)\n",
    "loss "
   ]
  },
  {
   "cell_type": "markdown",
   "metadata": {},
   "source": [
    "### Question 4,5"
   ]
  },
  {
   "cell_type": "code",
   "execution_count": 133,
   "metadata": {},
   "outputs": [
    {
     "data": {
      "text/plain": [
       "(-1.0, -3.0)"
      ]
     },
     "execution_count": 133,
     "metadata": {},
     "output_type": "execute_result"
    }
   ],
   "source": [
    "dw = compute_gradient(1,0.5,1)\n",
    "db = compute_grad_bias(0.5,2)\n",
    "\n",
    "dw, db"
   ]
  },
  {
   "cell_type": "markdown",
   "metadata": {},
   "source": [
    "### Question 6,7"
   ]
  },
  {
   "cell_type": "code",
   "execution_count": 134,
   "metadata": {},
   "outputs": [
    {
     "data": {
      "text/plain": [
       "(0.50001, 1.000005)"
      ]
     },
     "execution_count": 134,
     "metadata": {},
     "output_type": "execute_result"
    }
   ],
   "source": [
    "after_b = update_bias(0.5,1e-5,-1)\n",
    "after_w = update_weight(1,1e-5,-0.5)\n",
    "after_b, after_w"
   ]
  },
  {
   "cell_type": "markdown",
   "metadata": {},
   "source": [
    "### Question 8"
   ]
  },
  {
   "cell_type": "code",
   "execution_count": 135,
   "metadata": {},
   "outputs": [
    {
     "data": {
      "image/png": "[encoded data removed]",
      "text/plain": [
       "<Figure size 640x480 with 1 Axes>"
      ]
     },
     "metadata": {},
     "output_type": "display_data"
    }
   ],
   "source": [
    "(w1, w2, w3, b, losses) = implement_linear_regression(X, y)\n",
    "plt.plot(losses[:100])\n",
    "plt.xlabel('#iteration')\n",
    "plt.ylabel('Loss')\n",
    "plt.show()"
   ]
  },
  {
   "cell_type": "code",
   "execution_count": 136,
   "metadata": {},
   "outputs": [
    {
     "data": {
      "text/plain": [
       "(0.07405984066396477, 0.15917360263437663, 0.017561197559948935)"
      ]
     },
     "execution_count": 136,
     "metadata": {},
     "output_type": "execute_result"
    }
   ],
   "source": [
    "(w1, w2, w3, b, losses) = implement_linear_regression(X, y)\n",
    "w1,w2,w3"
   ]
  },
  {
   "cell_type": "markdown",
   "metadata": {},
   "source": [
    "### Question 9 "
   ]
  },
  {
   "cell_type": "code",
   "execution_count": 137,
   "metadata": {},
   "outputs": [
    {
     "name": "stdout",
     "output_type": "stream",
     "text": [
      "predicted sales is 8.176413319549823\n"
     ]
    }
   ],
   "source": [
    "tv, radio, newspaper = 19.2, 35.9, 51.3\n",
    "\n",
    "X,y = prepare_data('Advertising data.csv')\n",
    "(w1, w2, w3, b,losses) = implement_linear_regression(X, y, 50, 1e-5)\n",
    "sales = compute_predict(tv, radio, newspaper, w1, w2, w3, b)\n",
    "print(f'predicted sales is {sales}')"
   ]
  },
  {
   "cell_type": "markdown",
   "metadata": {},
   "source": [
    "### Question 10"
   ]
  },
  {
   "cell_type": "code",
   "execution_count": 138,
   "metadata": {},
   "outputs": [
    {
     "data": {
      "text/plain": [
       "0.5"
      ]
     },
     "execution_count": 138,
     "metadata": {},
     "output_type": "execute_result"
    }
   ],
   "source": [
    "def compute_loss_mae(y_hat, y):\n",
    "    mae = abs(y - y_hat)\n",
    "    return mae\n",
    "\n",
    "loss = compute_loss_mae(y_hat = 1, y = 0.5)\n",
    "loss"
   ]
  },
  {
   "cell_type": "code",
   "execution_count": 139,
   "metadata": {},
   "outputs": [],
   "source": [
    "def implement_linear_regression_nsamples(X_data, y_data, EPOCHS = 50, lr = 1e-5, loss = 'mse'):\n",
    "    losses = []\n",
    "    w1, w2, w3, b = initialize_param()\n",
    "\n",
    "    N = len(y_data)\n",
    "    for epoch in range(EPOCHS):\n",
    "        loss_total = 0\n",
    "        dw1_total = 0\n",
    "        dw2_total = 0\n",
    "        dw3_total = 0\n",
    "        db_total = 0\n",
    "        for i in range(N):\n",
    "            x1 = X_data[0][i]\n",
    "            x2 = X_data[1][i]\n",
    "            x3 = X_data[2][i]\n",
    "            y = y_data[i]\n",
    "\n",
    "            y_hat = compute_predict(x1, x2, x3, w1, w2, w3, b)\n",
    "\n",
    "            if loss == 'mse':\n",
    "                current_loss = compute_loss_mse(y_hat, y)\n",
    "            elif loss == 'mae':\n",
    "                current_loss = compute_loss_mae(y_hat, y)\n",
    "            \n",
    "            loss_total += current_loss\n",
    "\n",
    "            d_w1 = compute_gradient(x1, y_hat, y) / N\n",
    "            d_w2 = compute_gradient(x2, y_hat, y) / N\n",
    "            d_w3 = compute_gradient(x3, y_hat, y) / N\n",
    "            d_b = compute_grad_bias(y_hat, y) / N \n",
    "\n",
    "            dw1_total += d_w1\n",
    "            dw2_total += d_w2\n",
    "            dw3_total += d_w3\n",
    "            db_total += d_b\n",
    "\n",
    "        w1 = update_params(w1, lr, dw1_total)  \n",
    "        w2 = update_params(w2, lr, dw2_total)  \n",
    "        w3 = update_params(w3, lr, dw3_total)  \n",
    "        b = update_bias(b, lr, db_total)      \n",
    "        losses.append(loss_total/N)\n",
    "\n",
    "    return (w1, w2, w3, b, losses)"
   ]
  },
  {
   "cell_type": "code",
   "execution_count": 140,
   "metadata": {},
   "outputs": [
    {
     "name": "stdout",
     "output_type": "stream",
     "text": [
      "0.06710990754044266 0.15756173831487585 0.029619799386084403\n"
     ]
    },
    {
     "data": {
      "image/png": "[encoded data removed]",
      "text/plain": [
       "<Figure size 640x480 with 1 Axes>"
      ]
     },
     "metadata": {},
     "output_type": "display_data"
    }
   ],
   "source": [
    "(w1, w2, w3, b, losses) = implement_linear_regression_nsamples(X, y, EPOCHS=1000, lr=1e-5, loss='mse')\n",
    "print(w1,w2,w3)\n",
    "plt.plot(losses)\n",
    "plt.xlabel('#epoch')\n",
    "plt.ylabel('MSE Loss')\n",
    "plt.show()"
   ]
  },
  {
   "cell_type": "code",
   "execution_count": 141,
   "metadata": {},
   "outputs": [
    {
     "name": "stdout",
     "output_type": "stream",
     "text": [
      "0.06710990754044266 0.15756173831487585 0.029619799386084403\n"
     ]
    },
    {
     "data": {
      "image/png": "[encoded data removed]",
      "text/plain": [
       "<Figure size 640x480 with 1 Axes>"
      ]
     },
     "metadata": {},
     "output_type": "display_data"
    }
   ],
   "source": [
    "X, y = prepare_data('Advertising data.csv')\n",
    "(w1, w2, w3, b,losses) = implement_linear_regression_nsamples(X, y, EPOCHS=1000, lr=1e-5,loss = 'mae')\n",
    "\n",
    "print(w1,w2,w3)\n",
    "plt.plot(losses)\n",
    "plt.xlabel('#epoch')\n",
    "plt.ylabel('MAE Loss')\n",
    "plt.show()"
   ]
  },
  {
   "cell_type": "code",
   "execution_count": 142,
   "metadata": {},
   "outputs": [],
   "source": [
    "def prepare_data(file_name_dataset):\n",
    "    data = np.genfromtxt(file_name_dataset, delimiter=',',names=True).tolist()\n",
    "\n",
    "    tv_data = get_column(data,0)\n",
    "    radio_data = get_column(data,1)\n",
    "    news_data = get_column(data,2)\n",
    "    sales_data = get_column(data,3)\n",
    "\n",
    "    X = [[1,x1,x2,x3] for x1,x2,x3 in zip(tv_data,radio_data,news_data)]\n",
    "    y = sales_data\n",
    "    return X,y\n",
    "\n",
    "X,y = prepare_data('Advertising data.csv')"
   ]
  },
  {
   "cell_type": "code",
   "execution_count": 143,
   "metadata": {},
   "outputs": [
    {
     "name": "stdout",
     "output_type": "stream",
     "text": [
      "epoch: 0\n",
      "epoch: 1\n",
      "epoch: 2\n",
      "epoch: 3\n",
      "epoch: 4\n",
      "epoch: 5\n",
      "epoch: 6\n",
      "epoch: 7\n",
      "epoch: 8\n",
      "epoch: 9\n",
      "epoch: 10\n",
      "epoch: 11\n",
      "epoch: 12\n",
      "epoch: 13\n",
      "epoch: 14\n",
      "epoch: 15\n",
      "epoch: 16\n",
      "epoch: 17\n",
      "epoch: 18\n",
      "epoch: 19\n",
      "epoch: 20\n",
      "epoch: 21\n",
      "epoch: 22\n",
      "epoch: 23\n",
      "epoch: 24\n",
      "epoch: 25\n",
      "epoch: 26\n",
      "epoch: 27\n",
      "epoch: 28\n",
      "epoch: 29\n",
      "epoch: 30\n",
      "epoch: 31\n",
      "epoch: 32\n",
      "epoch: 33\n",
      "epoch: 34\n",
      "epoch: 35\n",
      "epoch: 36\n",
      "epoch: 37\n",
      "epoch: 38\n",
      "epoch: 39\n",
      "epoch: 40\n",
      "epoch: 41\n",
      "epoch: 42\n",
      "epoch: 43\n",
      "epoch: 44\n",
      "epoch: 45\n",
      "epoch: 46\n",
      "epoch: 47\n",
      "epoch: 48\n",
      "epoch: 49\n"
     ]
    },
    {
     "data": {
      "image/png": "[encoded data removed]",
      "text/plain": [
       "<Figure size 640x480 with 1 Axes>"
      ]
     },
     "metadata": {},
     "output_type": "display_data"
    }
   ],
   "source": [
    "def initialize_param():\n",
    "    bias = 0\n",
    "    w1 = random.gauss(0, 0.01)\n",
    "    w2 = random.gauss(0, 0.01)\n",
    "    w3 = random.gauss(0, 0.01)\n",
    "    return [0 , -0.01268850433497871 , 0.004752496982185252 , 0.0073796171538643845]\n",
    "\n",
    "def predict(X_features, weights):\n",
    "    predictions = X_features[0]*weights[1] + X_features[1]*weights[2] + X_features[2]*weights[3] + weights[0]\n",
    "    return predictions\n",
    "\n",
    "def compute_loss(y_hat,y):\n",
    "    return (y - y_hat)**2\n",
    "\n",
    "def compute_gradient_w(X, y, y_hat):\n",
    "    dl_dweights = 2 * (y_hat - y) * np.array(X)\n",
    "    return dl_dweights\n",
    "\n",
    "def update_weight(weights, dl_dweights, lr):\n",
    "    return weights - lr * dl_dweights\n",
    "\n",
    "def implement_linear_regression(X_features, y_output, EPOCHS=50, lr=1e-5):\n",
    "    losses = []\n",
    "    weights = initialize_param()\n",
    "    N = len(y_output)\n",
    "    for epoch in range(EPOCHS):\n",
    "        print(f'epoch: {epoch}')\n",
    "        for i in range(N):\n",
    "            features_i = X_features[i]\n",
    "            y = y_output[i]\n",
    "\n",
    "            y_hat = predict(features_i, weights)\n",
    "            loss = compute_loss(y_hat, y)\n",
    "\n",
    "            dl_dweights = compute_gradient_w(features_i, y, y_hat)\n",
    "            weights = update_weight(weights, dl_dweights, lr)\n",
    "\n",
    "            losses.append(loss)\n",
    "\n",
    "    return (weights, losses)\n",
    "\n",
    "X,y = prepare_data('Advertising data.csv')\n",
    "W, L = implement_linear_regression(X, y, EPOCHS=50, lr=1e-5)\n",
    "plt.plot(L[0:100])\n",
    "plt.xlabel('#iteration')\n",
    "plt.ylabel('Loss')\n",
    "plt.show()"
   ]
  },
  {
   "cell_type": "code",
   "execution_count": 144,
   "metadata": {},
   "outputs": [
    {
     "name": "stdout",
     "output_type": "stream",
     "text": [
      "1.6737533418362208e+24\n"
     ]
    }
   ],
   "source": [
    "print(L[9999])"
   ]
  },
  {
   "cell_type": "code",
   "execution_count": null,
   "metadata": {},
   "outputs": [],
   "source": []
  }
 ],
 "metadata": {
  "kernelspec": {
   "display_name": "aio_2024",
   "language": "python",
   "name": "python3"
  },
  "language_info": {
   "codemirror_mode": {
    "name": "ipython",
    "version": 3
   },
   "file_extension": ".py",
   "mimetype": "text/x-python",
   "name": "python",
   "nbconvert_exporter": "python",
   "pygments_lexer": "ipython3",
   "version": "3.11.9"
  }
 },
 "nbformat": 4,
 "nbformat_minor": 2
}
